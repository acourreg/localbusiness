{
 "cells": [
  {
   "cell_type": "markdown",
   "metadata": {},
   "source": [
    "# Credits"
   ]
  },
  {
   "cell_type": "markdown",
   "metadata": {},
   "source": [
    "Datasets used in this project:\n",
    "\n",
    "Kaggle - USstates Dataset - analysis with pandas - Giovanna de Vincenzo\n",
    "simplemaps - United States Cities Database (Free version) - Creative Commons Attribution 4.0\n",
    "data.world - US Economic Census Core Data by Industry, 2012 and 2007 - BY GARY HOOVER\n",
    "data.world - 2012 US Industry Data - BY GARY HOOVER\n",
    "data.world - INC 5000 - 2019 - BY AURIELLE PERLMANN\n",
    "data.world - Free 7+ Million Company Dataset - IN PEOPLE DATA LABS"
   ]
  },
  {
   "cell_type": "code",
   "execution_count": 1,
   "metadata": {},
   "outputs": [],
   "source": [
    "import configparser\n",
    "import findspark \n",
    "from datetime import datetime\n",
    "import os\n",
    "from pyspark.sql import SparkSession\n",
    "from pyspark.sql.functions import lit\n",
    "from pyspark import SparkContext\n",
    "from pyspark.sql.functions import monotonically_increasing_id\n",
    "from pyspark.sql.functions import udf, col\n",
    "from pyspark.sql.functions import year, month, dayofmonth, hour, weekofyear, date_format, dayofweek\n",
    "from pyspark.sql.types import StructType, StructField, StringType, FloatType"
   ]
  },
  {
   "cell_type": "code",
   "execution_count": 2,
   "metadata": {},
   "outputs": [],
   "source": [
    "spark = SparkSession.builder.appName('localbusiness').getOrCreate()"
   ]
  },
  {
   "cell_type": "markdown",
   "metadata": {},
   "source": [
    "# Loading cities / countries (dimensions)"
   ]
  },
  {
   "cell_type": "code",
   "execution_count": 3,
   "metadata": {},
   "outputs": [
    {
     "data": {
      "text/plain": [
       "Row(city='South Creek', city_ascii='South Creek', state_id='WA', state_name='Washington', county_fips='53053', county_name='Pierce', county_fips_all='53053', county_name_all='Pierce', lat='46.9994', lng='-122.3921', population='2500', density='125', source='polygon', military='FALSE', incorporated='TRUE', timezone='America/Los_Angeles', ranking='3', zips='98580 98387 98338', id='1840116412')"
      ]
     },
     "execution_count": 3,
     "metadata": {},
     "output_type": "execute_result"
    }
   ],
   "source": [
    "uscities = spark.read.csv('./data/uscities.csv',header=True)\n",
    "uscities.head()"
   ]
  },
  {
   "cell_type": "code",
   "execution_count": 4,
   "metadata": {},
   "outputs": [
    {
     "data": {
      "text/plain": [
       "Row(state='Alabama', abbreviation='AL')"
      ]
     },
     "execution_count": 4,
     "metadata": {},
     "output_type": "execute_result"
    }
   ],
   "source": [
    "stateabbrevs = spark.read.csv('./data/state-abbrevs.csv',header=True)\n",
    "stateabbrevs.head()"
   ]
  },
  {
   "cell_type": "code",
   "execution_count": 5,
   "metadata": {},
   "outputs": [
    {
     "data": {
      "text/plain": [
       "[Row(state/region='AL', ages='under18', year='2012', population='1117489'),\n",
       " Row(state/region='AL', ages='total', year='2012', population='4817528'),\n",
       " Row(state/region='AL', ages='under18', year='2010', population='1130966'),\n",
       " Row(state/region='AL', ages='total', year='2010', population='4785570'),\n",
       " Row(state/region='AL', ages='under18', year='2011', population='1125763')]"
      ]
     },
     "execution_count": 5,
     "metadata": {},
     "output_type": "execute_result"
    }
   ],
   "source": [
    "statepopulation = spark.read.csv('./data/state-population.csv',header=True)\n",
    "statepopulation.head(5)"
   ]
  },
  {
   "cell_type": "markdown",
   "metadata": {},
   "source": [
    "# Loading companies (dimension)"
   ]
  },
  {
   "cell_type": "code",
   "execution_count": 6,
   "metadata": {},
   "outputs": [
    {
     "data": {
      "text/plain": [
       "[Row(_c0='5872184', name='ibm', domain='ibm.com', year founded='1911', industry='information technology and services', size range='10001+', locality='new york, new york, united states', country='united states', linkedin url='linkedin.com/company/ibm', current employee estimate='274047', total employee estimate='716906'),\n",
       " Row(_c0='4425416', name='tata consultancy services', domain='tcs.com', year founded='1968', industry='information technology and services', size range='10001+', locality='bombay, maharashtra, india', country='india', linkedin url='linkedin.com/company/tata-consultancy-services', current employee estimate='190771', total employee estimate='341369')]"
      ]
     },
     "execution_count": 6,
     "metadata": {},
     "output_type": "execute_result"
    }
   ],
   "source": [
    "companies_sorted = spark.read.csv('./data/companies_sorted.csv',header=True)\n",
    "companies_sorted.head(2)"
   ]
  },
  {
   "cell_type": "markdown",
   "metadata": {},
   "source": [
    "# Loading Eco metrics (fact) + Sectors (dimension)"
   ]
  },
  {
   "cell_type": "code",
   "execution_count": 7,
   "metadata": {},
   "outputs": [
    {
     "data": {
      "text/plain": [
       "Row(Meaning of 2007 NAICS code='Mining, quarrying, and oil and gas extraction', 2007 NAICS code='21', Year='2012', Number of establishments='25,417', Value of sales, shipments, receipts, revenue, or business done ($1,000)='529,239,818',  Annual payroll ($1,000) =' 59,461,950 ', Number of paid employees for period including March 12='848,189')"
      ]
     },
     "execution_count": 7,
     "metadata": {},
     "output_type": "execute_result"
    }
   ],
   "source": [
    "ecocensusbyindustry = spark.read.option('delimiter', ';').csv('./data/ecocensusbyindustry.csv',header=True)\n",
    "ecocensusbyindustry.head()"
   ]
  },
  {
   "cell_type": "code",
   "execution_count": 8,
   "metadata": {},
   "outputs": [
    {
     "data": {
      "text/plain": [
       "Row(Geographic area name='United States', 2012 NAICS code='21', Meaning of 2012 NAICS code='Mining, quarrying, and oil and gas extraction', Meaning of Type of operation or tax status code='Total', Number of establishments='28,643',  Value of sales, shipments, receipts, revenue, or business done ($1,000) =' 555,174,196 ', Annual payroll ($1,000)='61,331,381', First-quarter payroll ($1,000)='N', Number of employees='903,641', Number of nonemployer establishments='109,931',  Nonemployer value of sales, shipments, receipts, revenue, or business done ($1,000) =' 7,820,264 ')"
      ]
     },
     "execution_count": 8,
     "metadata": {},
     "output_type": "execute_result"
    }
   ],
   "source": [
    "industrydatabystate = spark.read.option('delimiter', ';').csv('./data/industrydatabystate.csv',header=True)\n",
    "industrydatabystate.head()"
   ]
  },
  {
   "cell_type": "code",
   "execution_count": 9,
   "metadata": {},
   "outputs": [
    {
     "data": {
      "text/plain": [
       "Row(rank='1', profile='https://www.inc.com/profile/freestar', name='Freestar', url='http://freestar.com', state='AZ', revenue='36.9 Million', growth='36680.3882', industry='Advertising & Marketing', workers='40', founded='2015', yrs_on_list='1', previous_workers='5', metro='Phoenix', city='Phoenix')"
      ]
     },
     "execution_count": 9,
     "metadata": {},
     "output_type": "execute_result"
    }
   ],
   "source": [
    "ecoinc5000 = spark.read.csv('./data/ecoinc5000-2019.csv',header=True)\n",
    "ecoinc5000.head()"
   ]
  },
  {
   "cell_type": "code",
   "execution_count": null,
   "metadata": {},
   "outputs": [],
   "source": []
  },
  {
   "cell_type": "markdown",
   "metadata": {},
   "source": [
    "# Creating spark SQL tables"
   ]
  },
  {
   "cell_type": "markdown",
   "metadata": {},
   "source": [
    "## Dimension tables"
   ]
  },
  {
   "cell_type": "code",
   "execution_count": 10,
   "metadata": {},
   "outputs": [],
   "source": [
    "# SECTOR dimension table\n",
    "sector_table1 = ecocensusbyindustry.select(col(\"2007 NAICS code\").alias('naics'),\n",
    "                                          col('Meaning of 2007 NAICS code').alias('name'))\n",
    "sector_table2 = industrydatabystate.select(col(\"2012 NAICS code\").alias('naics'),\n",
    "                                         col('Meaning of 2012 NAICS code').alias('name'))\n",
    "sector_table = sector_table1.union(sector_table2).distinct()\n",
    "sector_table.head(2)\n",
    "sector_table.write.mode('overwrite').save('output/sector_table',  format='parquet')"
   ]
  },
  {
   "cell_type": "code",
   "execution_count": 11,
   "metadata": {},
   "outputs": [],
   "source": [
    "# STATE dimension table\n",
    "state_table1 = statepopulation.select(col('population'), col('state/region').alias('id'))\n",
    "state_table2 = stateabbrevs.select('state', 'abbreviation')\n",
    "state_table = state_table1.join(state_table2, state_table1.id==state_table2.abbreviation).select(col('id'), col('state').alias('name'), col('population')).distinct()\n",
    "state_table.head(2)\n",
    "state_table.write.mode('overwrite').save('output/state_table',  format='parquet')"
   ]
  },
  {
   "cell_type": "code",
   "execution_count": 12,
   "metadata": {},
   "outputs": [],
   "source": [
    "# CITY dimension table\n",
    "city_table = uscities.select(col('city').alias('name'), 'state_id', 'population').distinct().withColumn(\"idx\",monotonically_increasing_id())\n",
    "city_table.head(2)\n",
    "city_table.write.mode('overwrite').save('output/city_table',  format='parquet')"
   ]
  },
  {
   "cell_type": "code",
   "execution_count": 13,
   "metadata": {},
   "outputs": [],
   "source": [
    "# COMPANY dimension table\n",
    "company_table = companies_sorted.select('name', 'domain', col('year founded').alias('year'))\n",
    "company_table.head()\n",
    "company_table.write.mode('overwrite').save('output/company_table',  format='parquet')"
   ]
  },
  {
   "cell_type": "markdown",
   "metadata": {},
   "source": [
    "## Fact table - Economic metrics"
   ]
  },
  {
   "cell_type": "code",
   "execution_count": 14,
   "metadata": {},
   "outputs": [],
   "source": [
    "# ECONOMICS fact table\n",
    "\n",
    "eco_table1 = ecocensusbyindustry.select(\n",
    "    col('Year').alias('year'),\n",
    "    col('Number of establishments').alias('nb_of_establishments'),\n",
    "    col('Value of sales, shipments, receipts, revenue, or business done ($1,000)').alias('revenue'),\n",
    "    col('2007 NAICS code').alias('naics'),\n",
    "    col('Number of paid employees for period including March 12').alias('employees'),\n",
    "    lit('US').alias('state_id'),\n",
    "    lit(None).alias('growth'),\n",
    "    lit(None).alias('city_id'))\n",
    "\n",
    "eco_table2 = industrydatabystate.select(\n",
    "    lit(2012).alias('year'),\n",
    "    col('Number of establishments').alias('nb_of_establishments'),\n",
    "    col('Number of employees').alias('employees'),\n",
    "    col(' Nonemployer value of sales, shipments, receipts, revenue, or business done ($1,000) ').alias('revenue'),\n",
    "    col('2012 NAICS code').alias('naics'),\n",
    "    col('Geographic area name').alias('state')).distinct()\n",
    "eco_table2 = eco_table2.join(\n",
    "    state_table, \n",
    "    state_table.id==eco_table2.state).select(\n",
    "        'year',\n",
    "        'nb_of_establishments',\n",
    "        'employees',\n",
    "        'revenue',\n",
    "        'naics',\n",
    "        col('id').alias('state_id'),\n",
    "        lit(None).alias('growth'),\n",
    "        lit(None).alias('city_id')).distinct()\n",
    "\n",
    "eco_table3 = ecoinc5000.join(\n",
    "    city_table, \n",
    "    city_table.name==ecoinc5000.city\n",
    "    ).join(\n",
    "    state_table,\n",
    "    state_table.id==ecoinc5000.state\n",
    "    ).join(\n",
    "    sector_table,\n",
    "    sector_table.name==ecoinc5000.industry).select(\n",
    "    lit(2019).alias('year'),\n",
    "    col('workers').alias('employees'),\n",
    "    lit(1).alias('nb_of_establishments'),\n",
    "    'revenue',\n",
    "    'growth',\n",
    "    col('id').alias('state_id'),\n",
    "    col('naics'),\n",
    "    col('idx').alias('city_id')).distinct()\n",
    "eco_table = eco_table1.union(eco_table2).union(eco_table3)\n",
    "eco_table.head(4)\n",
    "eco_table.write.mode('overwrite').save('output/eco_table',  format='parquet')"
   ]
  },
  {
   "cell_type": "markdown",
   "metadata": {},
   "source": [
    "# Example of requests (used in App)"
   ]
  },
  {
   "cell_type": "code",
   "execution_count": 15,
   "metadata": {},
   "outputs": [
    {
     "name": "stdout",
     "output_type": "stream",
     "text": [
      "21\n",
      "238150\n",
      "238910\n",
      "311330\n",
      "316993\n"
     ]
    }
   ],
   "source": [
    "sector_table5 = spark.read.parquet('./output/sector_table')\n",
    "for index, sectorrow in sector_table5.limit(5).collect():\n",
    "    print(index)"
   ]
  },
  {
   "cell_type": "code",
   "execution_count": 16,
   "metadata": {},
   "outputs": [
    {
     "name": "stdout",
     "output_type": "stream",
     "text": [
      "Row(id='CT', name='Connecticut', population='3484336')\n",
      "Row(id='ID', name='Idaho', population='1612136')\n",
      "Row(id='ID', name='Idaho', population='426076')\n",
      "Row(id='LA', name='Louisiana', population='1108728')\n",
      "Row(id='MD', name='Maryland', population='5928814')\n",
      "Row(id='MN', name='Minnesota', population='1280557')\n",
      "Row(id='MS', name='Mississippi', population='768418')\n",
      "Row(id='NH', name='New Hampshire', population='1109929')\n",
      "Row(id='NH', name='New Hampshire', population='307292')\n",
      "Row(id='NJ', name='New Jersey', population='8836639')\n",
      "Row(id='OR', name='Oregon', population='793435')\n",
      "Row(id='RI', name='Rhode Island', population='1015960')\n",
      "Row(id='SD', name='South Dakota', population='203145')\n",
      "Row(id='UT', name='Utah', population='873019')\n",
      "Row(id='WA', name='Washington', population='1517527')\n",
      "Row(id='CA', name='California', population='32987675')\n",
      "Row(id='FL', name='Florida', population='15759421')\n",
      "Row(id='GA', name='Georgia', population='7328413')\n",
      "Row(id='MA', name='Massachusetts', population='6179756')\n",
      "Row(id='MO', name='Missouri', population='5607285')\n"
     ]
    }
   ],
   "source": [
    "for staterow in state_table.limit(20).collect():\n",
    "    print(staterow)"
   ]
  },
  {
   "cell_type": "code",
   "execution_count": 28,
   "metadata": {},
   "outputs": [
    {
     "name": "stdout",
     "output_type": "stream",
     "text": [
      "text848,189text\n"
     ]
    }
   ],
   "source": [
    "eco_tableX = spark.read.parquet('./output/eco_table')\n",
    "eco = eco_tableX.where(eco_tableX.naics == 21).where(eco_tableX.state_id == 'US').first()\n",
    "print('''text'''+eco['employees']+'''text''')"
   ]
  },
  {
   "cell_type": "code",
   "execution_count": null,
   "metadata": {},
   "outputs": [],
   "source": []
  }
 ],
 "metadata": {
  "kernelspec": {
   "display_name": "Python 3",
   "language": "python",
   "name": "python3"
  },
  "language_info": {
   "codemirror_mode": {
    "name": "ipython",
    "version": 3
   },
   "file_extension": ".py",
   "mimetype": "text/x-python",
   "name": "python",
   "nbconvert_exporter": "python",
   "pygments_lexer": "ipython3",
   "version": "3.6.7"
  }
 },
 "nbformat": 4,
 "nbformat_minor": 2
}
